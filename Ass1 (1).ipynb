{
 "cells": [
  {
   "cell_type": "code",
   "execution_count": 1,
   "id": "23cdc8fe-2793-4f72-83cb-62872be61d76",
   "metadata": {},
   "outputs": [
    {
     "name": "stdout",
     "output_type": "stream",
     "text": [
      "Hello World\n"
     ]
    }
   ],
   "source": [
    "print(\"Hello World\")"
   ]
  },
  {
   "cell_type": "code",
   "execution_count": 5,
   "id": "4d0d62e0-5184-4896-a4a4-cb7b6a56a1cd",
   "metadata": {},
   "outputs": [
    {
     "name": "stdout",
     "output_type": "stream",
     "text": [
      "My Name is Yashowardhan and my age is10\n"
     ]
    }
   ],
   "source": [
    "name = \"Yashowardhan\"\n",
    "age = 10\n",
    "print(f\"My Name is {name} and my age is{age}\")"
   ]
  },
  {
   "cell_type": "code",
   "execution_count": 6,
   "id": "1628dacd-ba5b-40b7-ae0d-cb80d571ec0c",
   "metadata": {},
   "outputs": [
    {
     "name": "stdout",
     "output_type": "stream",
     "text": [
      "['False', 'None', 'True', 'and', 'as', 'assert', 'async', 'await', 'break', 'class', 'continue', 'def', 'del', 'elif', 'else', 'except', 'finally', 'for', 'from', 'global', 'if', 'import', 'in', 'is', 'lambda', 'nonlocal', 'not', 'or', 'pass', 'raise', 'return', 'try', 'while', 'with', 'yield']\n"
     ]
    }
   ],
   "source": [
    "import keyword\n",
    "print(keyword.kwlist)"
   ]
  },
  {
   "cell_type": "code",
   "execution_count": 8,
   "id": "01a04898-1685-47fa-a80c-66668d450fb6",
   "metadata": {},
   "outputs": [
    {
     "name": "stdin",
     "output_type": "stream",
     "text": [
      "Enter a word:  if\n"
     ]
    },
    {
     "name": "stdout",
     "output_type": "stream",
     "text": [
      "if is a keyword: True\n"
     ]
    }
   ],
   "source": [
    "import keyword\n",
    "word = input(\"Enter a word: \")\n",
    "print(f\"{word} is a keyword: {keyword.iskeyword(word)}\")"
   ]
  },
  {
   "cell_type": "code",
   "execution_count": 9,
   "id": "53788d2e-bd3c-4286-87ea-90cdc8e475e7",
   "metadata": {},
   "outputs": [
    {
     "name": "stdout",
     "output_type": "stream",
     "text": [
      "[1, 2, 3, 4]\n",
      "(1, 2, 3, 4)\n"
     ]
    }
   ],
   "source": [
    "def modify(data):\n",
    "    if isinstance(data, list):\n",
    "        data.append(4)  \n",
    "    else:\n",
    "        data = data + (4,) \n",
    "    return data\n",
    "\n",
    "lst = [1, 2, 3]\n",
    "tup = (1, 2, 3)\n",
    "print(modify(lst))  \n",
    "print(modify(tup))  "
   ]
  },
  {
   "cell_type": "code",
   "execution_count": 10,
   "id": "78c842e7-fdb9-4dda-8c9d-ea651ec8769d",
   "metadata": {},
   "outputs": [
    {
     "name": "stdin",
     "output_type": "stream",
     "text": [
      "Enter first number:  10\n",
      "Enter second number:  20\n"
     ]
    },
    {
     "name": "stdout",
     "output_type": "stream",
     "text": [
      "Sum: 30, Difference: -10, Product: 200, Quotient: 0.5\n"
     ]
    }
   ],
   "source": [
    "a = int(input(\"Enter first number: \"))\n",
    "b = int(input(\"Enter second number: \"))\n",
    "print(f\"Sum: {a + b}, Difference: {a - b}, Product: {a * b}, Quotient: {a / b}\")"
   ]
  },
  {
   "cell_type": "code",
   "execution_count": 11,
   "id": "c8fbd0b5-87b3-4e2e-a082-85209d01a998",
   "metadata": {},
   "outputs": [
    {
     "name": "stdout",
     "output_type": "stream",
     "text": [
      "False True False\n"
     ]
    }
   ],
   "source": [
    "x = True\n",
    "y = False\n",
    "print(x and y, x or y, not x)"
   ]
  },
  {
   "cell_type": "code",
   "execution_count": 12,
   "id": "60ed3e28-bbe9-4604-b461-238d59662470",
   "metadata": {},
   "outputs": [
    {
     "name": "stdout",
     "output_type": "stream",
     "text": [
      "[10, 2, 3] (1, 2, 3)\n"
     ]
    }
   ],
   "source": [
    "my_list = [1, 2, 3]\n",
    "my_tuple = (1, 2, 3)\n",
    "my_list[0] = 10 \n",
    "print(my_list, my_tuple)"
   ]
  },
  {
   "cell_type": "code",
   "execution_count": 13,
   "id": "2f17489a-ce0b-4561-8296-8e5d7afc309c",
   "metadata": {},
   "outputs": [
    {
     "name": "stdin",
     "output_type": "stream",
     "text": [
      "Enter a number:  10\n"
     ]
    },
    {
     "name": "stdout",
     "output_type": "stream",
     "text": [
      "Positive\n"
     ]
    }
   ],
   "source": [
    "num = int(input(\"Enter a number: \"))\n",
    "if num > 0:\n",
    "    print(\"Positive\")\n",
    "elif num < 0:\n",
    "    print(\"Negative\")\n",
    "else:\n",
    "    print(\"Zero\")"
   ]
  },
  {
   "cell_type": "code",
   "execution_count": 14,
   "id": "d5ad192e-3650-44d6-85b8-82fe921d0c2f",
   "metadata": {},
   "outputs": [
    {
     "name": "stdout",
     "output_type": "stream",
     "text": [
      "1\n",
      "2\n",
      "3\n",
      "4\n",
      "5\n",
      "6\n",
      "7\n",
      "8\n",
      "9\n",
      "10\n"
     ]
    }
   ],
   "source": [
    "for i in range(1, 11):\n",
    "    print(i)"
   ]
  },
  {
   "cell_type": "code",
   "execution_count": 15,
   "id": "e864c111-9b56-4d1a-8eeb-eaadf7969157",
   "metadata": {},
   "outputs": [
    {
     "name": "stdin",
     "output_type": "stream",
     "text": [
      "Enter a string:  yash\n"
     ]
    },
    {
     "name": "stdout",
     "output_type": "stream",
     "text": [
      "hsay\n"
     ]
    }
   ],
   "source": [
    "string = input(\"Enter a string: \")\n",
    "reversed_str = \"\"\n",
    "i = len(string) - 1\n",
    "while i >= 0:\n",
    "    reversed_str += string[i]\n",
    "    i -= 1\n",
    "print(reversed_str)"
   ]
  },
  {
   "cell_type": "code",
   "execution_count": 16,
   "id": "3e341efb-0aae-47f4-b2e6-0db6beba7d70",
   "metadata": {},
   "outputs": [
    {
     "name": "stdin",
     "output_type": "stream",
     "text": [
      "Enter a number:  4\n"
     ]
    },
    {
     "name": "stdout",
     "output_type": "stream",
     "text": [
      "Factorial: 24\n"
     ]
    }
   ],
   "source": [
    "num = int(input(\"Enter a number: \"))\n",
    "fact = 1\n",
    "while num > 1:\n",
    "    fact *= num\n",
    "    num -= 1\n",
    "print(f\"Factorial: {fact}\")"
   ]
  },
  {
   "cell_type": "code",
   "execution_count": null,
   "id": "ae5c60a6-4a3f-41a2-83d8-3251c4ece2d8",
   "metadata": {},
   "outputs": [],
   "source": [
    "1. What is Python, and why is it popular?\n",
    "Python is a high-level, interpreted programming language known for its simplicity, readability, and ease of use. It is widely used in web development, data science, artificial intelligence, automation, and more. Its popularity comes from:\n",
    "\n",
    "Simple and easy-to-read syntax.\n",
    "Large standard library and active community support.\n",
    "Cross-platform compatibility.\n",
    "Extensive third-party libraries for various applications.\n",
    "2. What is an interpreter in Python?\n",
    "An interpreter in Python is a program that executes Python code line by line rather than compiling it all at once. This makes debugging easier and allows for interactive execution.\n",
    "\n",
    "3. What are pre-defined keywords in Python?\n",
    "Pre-defined keywords in Python are reserved words with special meanings, such as if, else, for, while, import, def, return, etc. They cannot be used as variable names.\n",
    "\n",
    "4. Can keywords be used as variable names?\n",
    "No, keywords cannot be used as variable names because they have predefined meanings in the Python language.\n",
    "\n",
    "5. What is mutability in Python?\n",
    "Mutability in Python refers to whether an object’s state can be changed after creation. Mutable objects can be modified, while immutable objects cannot.\n",
    "\n",
    "6. Why are lists mutable, but tuples are immutable?\n",
    "Lists are mutable, meaning their elements can be changed after creation.\n",
    "Tuples are immutable, meaning once they are created, their elements cannot be changed.\n",
    "This is because lists are designed for dynamic data storage, whereas tuples are optimized for fixed, hashable collections.\n",
    "7. What is the difference between == and is operators in Python?\n",
    "== checks for value equality (whether two objects have the same value).\n",
    "is checks for identity equality (whether two objects refer to the same memory location).\n",
    "8. What are logical operators in Python?\n",
    "Logical operators are used to perform logical operations:\n",
    "\n",
    "and → Returns True if both conditions are true.\n",
    "or → Returns True if at least one condition is true.\n",
    "not → Reverses the boolean value.\n",
    "9. What is type casting in Python?\n",
    "Type casting is converting one data type into another, such as converting a string to an integer using int().\n",
    "\n",
    "10. What is the difference between implicit and explicit type casting?\n",
    "Implicit type casting (automatic conversion) happens when Python converts a smaller data type to a larger one (e.g., int to float).\n",
    "Explicit type casting (manual conversion) is when the programmer explicitly converts data types using functions like int(), float(), str(), etc.\n",
    "11. What is the purpose of conditional statements in Python?\n",
    "Conditional statements allow decision-making in programs using if, elif, and else.\n",
    "\n",
    "12. How does the elif statement work?\n",
    "The elif statement is used to check multiple conditions in an if statement. If the first condition is false, it checks the next elif condition before proceeding to else.\n",
    "\n",
    "13. What is the difference between for and while loops?\n",
    "for loops are used when the number of iterations is known in advance.\n",
    "while loops are used when the number of iterations is unknown and depends on a condition.\n",
    "14. Describe a scenario where a while loop is more suitable than a for loop.\n",
    "A while loop is more suitable when you don’t know how many times the loop will run beforehand. For example, reading user input until they enter a specific keyword."
   ]
  }
 ],
 "metadata": {
  "kernelspec": {
   "display_name": "Python 3 (ipykernel)",
   "language": "python",
   "name": "python3"
  },
  "language_info": {
   "codemirror_mode": {
    "name": "ipython",
    "version": 3
   },
   "file_extension": ".py",
   "mimetype": "text/x-python",
   "name": "python",
   "nbconvert_exporter": "python",
   "pygments_lexer": "ipython3",
   "version": "3.13.1"
  }
 },
 "nbformat": 4,
 "nbformat_minor": 5
}
